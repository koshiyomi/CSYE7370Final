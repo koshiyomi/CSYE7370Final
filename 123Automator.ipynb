{
 "cells": [
  {
   "cell_type": "code",
   "execution_count": 17,
   "metadata": {},
   "outputs": [],
   "source": [
    "import gym\n",
    "import numpy as np\n",
    "import pandas as pd\n",
    "from stable_baselines3 import DDPG\n",
    "from stable_baselines3.common.noise import NormalActionNoise, OrnsteinUhlenbeckActionNoise\n",
    "from StockTrade import StockTrade\n",
    "import os\n",
    "import gym\n",
    "import matplotlib.pyplot as plt\n",
    "\n",
    "from stable_baselines3.common import results_plotter\n",
    "from stable_baselines3.common.monitor import Monitor\n",
    "from stable_baselines3.common.results_plotter import load_results, ts2xy, plot_results\n",
    "from stable_baselines3.common.noise import NormalActionNoise\n",
    "from stable_baselines3.common.callbacks import BaseCallback"
   ]
  },
  {
   "cell_type": "code",
   "execution_count": 18,
   "metadata": {},
   "outputs": [],
   "source": [
    "class SaveOnBestTrainingRewardCallback(BaseCallback):\n",
    "    \"\"\"\n",
    "    Callback for saving a model (the check is done every ``check_freq`` steps)\n",
    "    based on the training reward (in practice, we recommend using ``EvalCallback``).\n",
    "\n",
    "    :param check_freq: (int)\n",
    "    :param log_dir: (str) Path to the folder where the model will be saved.\n",
    "      It must contains the file created by the ``Monitor`` wrapper.\n",
    "    :param verbose: (int)\n",
    "    \"\"\"\n",
    "    def __init__(self, check_freq: int, log_dir: str, verbose=1):\n",
    "        super(SaveOnBestTrainingRewardCallback, self).__init__(verbose)\n",
    "        self.check_freq = check_freq\n",
    "        self.log_dir = log_dir\n",
    "        self.save_path = os.path.join(log_dir, 'best_model')\n",
    "        self.best_mean_reward = -np.inf\n",
    "\n",
    "    def _init_callback(self) -> None:\n",
    "        # Create folder if needed\n",
    "        if self.save_path is not None:\n",
    "            os.makedirs(self.save_path, exist_ok=True)\n",
    "\n",
    "    def _on_step(self) -> bool:\n",
    "        if self.n_calls % self.check_freq == 0:\n",
    "\n",
    "          # Retrieve training reward\n",
    "          x, y = ts2xy(load_results(self.log_dir), 'timesteps')\n",
    "          if len(x) > 0:\n",
    "              # Mean training reward over the last 100 episodes\n",
    "              mean_reward = np.mean(y[-100:])\n",
    "              if self.verbose > 0:\n",
    "                print(\"Num timesteps: {}\".format(self.num_timesteps))\n",
    "                print(\"Best mean reward: {:.2f} - Last mean reward per episode: {:.2f}\".format(self.best_mean_reward, mean_reward))\n",
    "\n",
    "              # New best model, you could save the agent here\n",
    "              if mean_reward > self.best_mean_reward:\n",
    "                  self.best_mean_reward = mean_reward\n",
    "                  # Example for saving best model\n",
    "                  if self.verbose > 0:\n",
    "                    print(\"Saving new best model to {}\".format(self.save_path))\n",
    "                  self.model.save(self.save_path)\n",
    "\n",
    "        return True"
   ]
  },
  {
   "cell_type": "code",
   "execution_count": 19,
   "metadata": {},
   "outputs": [],
   "source": [
    "log_dir = \"tmp/\"\n",
    "os.makedirs(log_dir, exist_ok=True)"
   ]
  },
  {
   "cell_type": "code",
   "execution_count": 22,
   "metadata": {},
   "outputs": [],
   "source": [
    "env = StockTrade(stock_quantity=1, change_stocks=True)\n",
    "env = Monitor(env, log_dir)"
   ]
  },
  {
   "cell_type": "code",
   "execution_count": null,
   "outputs": [],
   "source": [
    "# The noise objects for DDPG\n",
    "n_actions = env.action_space.shape\n",
    "action_noise = NormalActionNoise(mean=np.zeros(n_actions), sigma=0.1 * np.ones(n_actions))\n",
    "\n",
    "model = DDPG('MlpPolicy', env, action_noise=action_noise, verbose=1)\n",
    "callback = SaveOnBestTrainingRewardCallback(check_freq=1000, log_dir=log_dir)\n",
    "timesteps = 1e4\n",
    "\n",
    "model.learn(total_timesteps=int(timesteps), callback=callback)\n",
    "plot_results([log_dir], timesteps, results_plotter.X_TIMESTEPS, \"Stock Trade Game\")\n",
    "plt.show()\n",
    "model.save(\"123Automator\")"
   ],
   "metadata": {
    "collapsed": false,
    "pycharm": {
     "name": "#%%\n"
    }
   }
  },
  {
   "cell_type": "code",
   "execution_count": null,
   "metadata": {},
   "outputs": [
    {
     "name": "stdout",
     "output_type": "stream",
     "text": [
      "Using cuda device\n",
      "Wrapping the env in a DummyVecEnv.\n",
      "Num timesteps: 1000\n",
      "Best mean reward: -inf - Last mean reward per episode: 24287534.95\n",
      "Saving new best model to tmp/best_model\n",
      "Num timesteps: 2000\n",
      "Best mean reward: 24287534.95 - Last mean reward per episode: 11619183.33\n",
      "Num timesteps: 3000\n",
      "Best mean reward: 24287534.95 - Last mean reward per episode: 33030205.25\n",
      "Saving new best model to tmp/best_model\n",
      "----------------------------------\n",
      "| rollout/           |           |\n",
      "|    ep_len_mean     | 752       |\n",
      "|    ep_rew_mean     | 5.06e+07  |\n",
      "| time/              |           |\n",
      "|    episodes        | 4         |\n",
      "|    fps             | 68        |\n",
      "|    time_elapsed    | 43        |\n",
      "|    total timesteps | 3008      |\n",
      "| train/             |           |\n",
      "|    actor_loss      | -3.46e+05 |\n",
      "|    critic_loss     | 6.37e+08  |\n",
      "|    learning_rate   | 0.001     |\n",
      "|    n_updates       | 2009      |\n",
      "----------------------------------\n",
      "Num timesteps: 4000\n",
      "Best mean reward: 33030205.25 - Last mean reward per episode: 50597061.42\n",
      "Saving new best model to tmp/best_model\n",
      "Num timesteps: 5000\n",
      "Best mean reward: 50597061.42 - Last mean reward per episode: 40473653.13\n",
      "Num timesteps: 6000\n",
      "Best mean reward: 50597061.42 - Last mean reward per episode: 33724714.28\n",
      "Num timesteps: 7000\n",
      "Best mean reward: 50597061.42 - Last mean reward per episode: 28904043.67\n",
      "----------------------------------\n",
      "| rollout/           |           |\n",
      "|    ep_len_mean     | 876       |\n",
      "|    ep_rew_mean     | 2.53e+07  |\n",
      "| time/              |           |\n",
      "|    episodes        | 8         |\n",
      "|    fps             | 54        |\n",
      "|    time_elapsed    | 127       |\n",
      "|    total timesteps | 7004      |\n",
      "| train/             |           |\n",
      "|    actor_loss      | -5.82e+06 |\n",
      "|    critic_loss     | 6.89e+10  |\n",
      "|    learning_rate   | 0.001     |\n",
      "|    n_updates       | 6005      |\n",
      "----------------------------------\n",
      "Num timesteps: 8000\n",
      "Best mean reward: 50597061.42 - Last mean reward per episode: 25288540.71\n",
      "Num timesteps: 9000\n",
      "Best mean reward: 50597061.42 - Last mean reward per episode: 22476482.85\n",
      "Num timesteps: 10000\n",
      "Best mean reward: 50597061.42 - Last mean reward per episode: 20226836.57\n"
     ]
    }
   ],
   "source": [
    "obs = env.reset()\n",
    "dones = False\n",
    "while not dones:\n",
    "    action, _states = model.predict(obs)\n",
    "    obs, rewards, dones, info = env.step(action)\n",
    "    env.render()\n",
    "env.close()"
   ]
  },
  {
   "cell_type": "code",
   "execution_count": null,
   "metadata": {},
   "outputs": [],
   "source": [
    "obs = env.reset()\n",
    "dones = False\n",
    "while not dones:\n",
    "    action, _states = model.predict(obs)\n",
    "    obs, rewards, dones, info = env.step(action)\n",
    "    env.render()\n",
    "env.close()"
   ]
  },
  {
   "cell_type": "code",
   "execution_count": null,
   "metadata": {},
   "outputs": [],
   "source": []
  }
 ],
 "metadata": {
  "kernelspec": {
   "display_name": "Python 3",
   "language": "python",
   "name": "python3"
  },
  "language_info": {
   "codemirror_mode": {
    "name": "ipython",
    "version": 3
   },
   "file_extension": ".py",
   "mimetype": "text/x-python",
   "name": "python",
   "nbconvert_exporter": "python",
   "pygments_lexer": "ipython3",
   "version": "3.8.3"
  }
 },
 "nbformat": 4,
 "nbformat_minor": 4
}